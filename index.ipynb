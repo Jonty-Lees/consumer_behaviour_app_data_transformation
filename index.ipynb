{
 "cells": [
  {
   "cell_type": "code",
   "execution_count": 6,
   "metadata": {},
   "outputs": [
    {
     "name": "stdout",
     "output_type": "stream",
     "text": [
      "Requirement already satisfied: pandas in ./.env/lib/python3.10/site-packages (1.3.4)\n",
      "Requirement already satisfied: numpy>=1.21.0 in ./.env/lib/python3.10/site-packages (from pandas) (1.21.4)\n",
      "Requirement already satisfied: pytz>=2017.3 in ./.env/lib/python3.10/site-packages (from pandas) (2021.3)\n",
      "Requirement already satisfied: python-dateutil>=2.7.3 in ./.env/lib/python3.10/site-packages (from pandas) (2.8.2)\n",
      "Requirement already satisfied: six>=1.5 in ./.env/lib/python3.10/site-packages (from python-dateutil>=2.7.3->pandas) (1.16.0)\n",
      "\u001b[31mERROR: Could not find a version that satisfies the requirement matplotlib.pyplot (from versions: none)\u001b[0m\n",
      "\u001b[31mERROR: No matching distribution found for matplotlib.pyplot\u001b[0m\n",
      "Requirement already satisfied: plotly.express in ./.env/lib/python3.10/site-packages (0.4.1)\n",
      "Requirement already satisfied: plotly>=4.1.0 in ./.env/lib/python3.10/site-packages (from plotly.express) (5.4.0)\n",
      "Requirement already satisfied: patsy>=0.5 in ./.env/lib/python3.10/site-packages (from plotly.express) (0.5.2)\n",
      "Requirement already satisfied: numpy>=1.11 in ./.env/lib/python3.10/site-packages (from plotly.express) (1.21.4)\n",
      "Requirement already satisfied: pandas>=0.20.0 in ./.env/lib/python3.10/site-packages (from plotly.express) (1.3.4)\n",
      "Requirement already satisfied: scipy>=0.18 in ./.env/lib/python3.10/site-packages (from plotly.express) (1.7.3)\n",
      "Requirement already satisfied: statsmodels>=0.9.0 in ./.env/lib/python3.10/site-packages (from plotly.express) (0.13.1)\n",
      "Requirement already satisfied: pytz>=2017.3 in ./.env/lib/python3.10/site-packages (from pandas>=0.20.0->plotly.express) (2021.3)\n",
      "Requirement already satisfied: python-dateutil>=2.7.3 in ./.env/lib/python3.10/site-packages (from pandas>=0.20.0->plotly.express) (2.8.2)\n",
      "Requirement already satisfied: six in ./.env/lib/python3.10/site-packages (from patsy>=0.5->plotly.express) (1.16.0)\n",
      "Requirement already satisfied: tenacity>=6.2.0 in ./.env/lib/python3.10/site-packages (from plotly>=4.1.0->plotly.express) (8.0.1)\n"
     ]
    }
   ],
   "source": [
    "! pip3 install pandas\n",
    "! pip3 install matplotlib.pyplot\n",
    "! pip3 install plotly.express"
   ]
  },
  {
   "cell_type": "code",
   "execution_count": 5,
   "metadata": {},
   "outputs": [],
   "source": [
    "import pandas as pd\n",
    "import plotly.express as px\n",
    "import matplotlib.pyplot as plt\n"
   ]
  },
  {
   "cell_type": "code",
   "execution_count": null,
   "metadata": {},
   "outputs": [],
   "source": []
  }
 ],
 "metadata": {
  "interpreter": {
   "hash": "e4baa1118497be939149502021bd6938b195297596de37c7dd3321e4ed94a8c7"
  },
  "kernelspec": {
   "display_name": "Python 3.10.0 64-bit ('.env': venv)",
   "language": "python",
   "name": "python3"
  },
  "language_info": {
   "codemirror_mode": {
    "name": "ipython",
    "version": 3
   },
   "file_extension": ".py",
   "mimetype": "text/x-python",
   "name": "python",
   "nbconvert_exporter": "python",
   "pygments_lexer": "ipython3",
   "version": "3.10.0"
  },
  "orig_nbformat": 4
 },
 "nbformat": 4,
 "nbformat_minor": 2
}
