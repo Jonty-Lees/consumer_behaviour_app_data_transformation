{
 "cells": [
  {
   "cell_type": "code",
   "execution_count": null,
   "metadata": {},
   "outputs": [],
   "source": [
    "! pip3 install pandas\n",
    "! pip3 install matplotlib.pyplot\n",
    "! pip3 install plotly.express\n",
    "! pip3 install openpyxl\n",
    "! pip3 install petl"
   ]
  },
  {
   "cell_type": "code",
   "execution_count": null,
   "metadata": {},
   "outputs": [],
   "source": [
    "import pandas as pd\n",
    "import plotly.express as px\n",
    "import matplotlib.pyplot as plt\n",
    "import petl as etl\n",
    "import glob as glob\n",
    "import os"
   ]
  },
  {
   "cell_type": "code",
   "execution_count": null,
   "metadata": {},
   "outputs": [],
   "source": [
    "branch_df = pd.read_csv('final_consumer_behaviour_df.csv')"
   ]
  },
  {
   "cell_type": "markdown",
   "metadata": {},
   "source": [
    "### Track the most purchased and least purchased products & product categories overall, per region and per county"
   ]
  },
  {
   "cell_type": "markdown",
   "metadata": {},
   "source": [
    "I took certain columns from the branch_df to start the file reduction process"
   ]
  },
  {
   "cell_type": "code",
   "execution_count": null,
   "metadata": {},
   "outputs": [],
   "source": [
    "product_df = branch_df[['region', 'county', 'product', 'quantity','category']]"
   ]
  },
  {
   "cell_type": "markdown",
   "metadata": {},
   "source": [
    "In order to make this df useable on Dash, I scaled it right down to only use the files I need."
   ]
  },
  {
   "cell_type": "markdown",
   "metadata": {},
   "source": [
    "This file was reduced from 10.9 GB to 563 KB"
   ]
  },
  {
   "cell_type": "code",
   "execution_count": null,
   "metadata": {},
   "outputs": [],
   "source": [
    "regional_product = product_df. groupby(['region', 'county', 'product','category'])['quantity'].sum().sort_values(ascending=False).reset_index()"
   ]
  },
  {
   "cell_type": "code",
   "execution_count": null,
   "metadata": {},
   "outputs": [],
   "source": [
    "regional_product.to_csv('testing_output/product_df.csv')"
   ]
  },
  {
   "cell_type": "markdown",
   "metadata": {},
   "source": [
    "Below is the process of making sure I output the right data to then use in the dash app"
   ]
  },
  {
   "cell_type": "code",
   "execution_count": null,
   "metadata": {},
   "outputs": [],
   "source": [
    "regional_product_search = regional_product.loc[regional_product['county'] == 'East Lindsey']\n",
    "top_product = regional_product_search.groupby('category')['quantity'].max(5).reset_index()\n",
    "bottom_product = regional_product_search.groupby('category')['quantity'].max(5).reset_index()\n"
   ]
  },
  {
   "cell_type": "code",
   "execution_count": null,
   "metadata": {},
   "outputs": [],
   "source": [
    "top_product.plot.bar(x=('category'), y=[\"quantity\"])"
   ]
  },
  {
   "cell_type": "markdown",
   "metadata": {},
   "source": [
    "### Track the best performing branches overall per region and per county (performance is measured in both item quantity sold and monetary value of sales made)"
   ]
  },
  {
   "cell_type": "code",
   "execution_count": null,
   "metadata": {},
   "outputs": [],
   "source": [
    "performance_df = branch_df[['region', 'county', 'branch_name', 'quantity','amount_in_gbp']]\n"
   ]
  },
  {
   "cell_type": "markdown",
   "metadata": {},
   "source": [
    "This file was reduced from 10.9 GB to 5KB"
   ]
  },
  {
   "cell_type": "code",
   "execution_count": null,
   "metadata": {},
   "outputs": [],
   "source": [
    "regional_performance = performance_df.groupby(['region', 'county', 'branch_name'])[['quantity', 'amount_in_gbp']].sum().sort_values(by='region', ascending=False).reset_index()\n",
    "\n",
    "regional_performance.to_csv('testing_output/performance_df.csv')"
   ]
  },
  {
   "cell_type": "markdown",
   "metadata": {},
   "source": [
    "Below is the process of making sure I output the right data to then use in the dash app"
   ]
  },
  {
   "cell_type": "code",
   "execution_count": null,
   "metadata": {},
   "outputs": [],
   "source": [
    "regional_performance['best_performing'] = regional_performance.quantity + regional_performance.amount_in_gbp\n",
    "regional_performance.sort_values(by='best_performing', ascending=False)\n",
    "regional_performance['region'].value_counts().sort_values(ascending=False)"
   ]
  },
  {
   "cell_type": "code",
   "execution_count": null,
   "metadata": {},
   "outputs": [],
   "source": [
    "top_regional_performance = regional_performance.loc[regional_performance['region'] == 'London'].nlargest(5,'best_performing')\n",
    "top_regional_performance.plot.bar(x=('branch_name') , y=['best_performing'])"
   ]
  },
  {
   "cell_type": "markdown",
   "metadata": {},
   "source": [
    "### Per hour sales for the top 10 branches of 2021 identified"
   ]
  },
  {
   "cell_type": "code",
   "execution_count": null,
   "metadata": {},
   "outputs": [],
   "source": [
    "per_hour_df = branch_df[['branch_name', 'year', 'hour', 'amount_in_gbp']]\n"
   ]
  },
  {
   "cell_type": "markdown",
   "metadata": {},
   "source": [
    "This file was reduced from 10.9 GB to 846 KB"
   ]
  },
  {
   "cell_type": "code",
   "execution_count": null,
   "metadata": {},
   "outputs": [],
   "source": [
    "per_hour = per_hour_df.groupby(['year', 'branch_name', 'hour'])['amount_in_gbp'].sum().sort_values(ascending=False).reset_index()"
   ]
  },
  {
   "cell_type": "code",
   "execution_count": null,
   "metadata": {},
   "outputs": [],
   "source": [
    "per_hour.to_csv('testing_output/per_hour_df.csv')"
   ]
  },
  {
   "cell_type": "markdown",
   "metadata": {},
   "source": [
    "Below is the process of making sure I output the right data to then use in the dash app"
   ]
  },
  {
   "cell_type": "code",
   "execution_count": null,
   "metadata": {},
   "outputs": [],
   "source": [
    "year_filtered_df = per_hour.loc[per_hour['year']== 2020]"
   ]
  },
  {
   "cell_type": "code",
   "execution_count": null,
   "metadata": {},
   "outputs": [],
   "source": [
    "year_filtered_df.sort_values(by=['branch_name', 'hour'])"
   ]
  },
  {
   "cell_type": "code",
   "execution_count": null,
   "metadata": {},
   "outputs": [],
   "source": [
    "branch_hour_grouped_df = year_filtered_df.groupby(['branch_name', 'hour'])['amount_in_gbp'].sum().reset_index()"
   ]
  },
  {
   "cell_type": "code",
   "execution_count": null,
   "metadata": {},
   "outputs": [],
   "source": [
    "top_branches = branch_hour_grouped_df.groupby('branch_name')['amount_in_gbp'].sum().reset_index()\n",
    "top_branches = top_branches.rename(columns={\"amount_in_gbp\":\"total_gbp\"})"
   ]
  },
  {
   "cell_type": "code",
   "execution_count": null,
   "metadata": {},
   "outputs": [],
   "source": [
    "merged_per_hour = branch_hour_grouped_df.merge(top_branches.set_index('branch_name'), on='branch_name').reset_index()\n",
    "\n",
    "top_merged_per_hour = merged_per_hour.sort_values(['total_gbp', 'hour'], ascending=True).tail(240)\n",
    "bottom_merged_per_hour = merged_per_hour.sort_values(['total_gbp', 'hour'], ascending=True).head(240)"
   ]
  },
  {
   "cell_type": "code",
   "execution_count": null,
   "metadata": {},
   "outputs": [],
   "source": [
    "top_merged_per_hour = top_merged_per_hour.pivot(index='hour', columns='branch_name', values='amount_in_gbp')\n",
    "top_merged_per_hour.plot(figsize=(20,10))"
   ]
  },
  {
   "cell_type": "code",
   "execution_count": null,
   "metadata": {},
   "outputs": [],
   "source": [
    "bottom_merged_per_hour = bottom_merged_per_hour.pivot(index='hour', columns='branch_name', values='amount_in_gbp')\n",
    "bottom_merged_per_hour.plot(figsize=(20,10))"
   ]
  },
  {
   "cell_type": "markdown",
   "metadata": {},
   "source": [
    "### Identify the top 10 and bottom 10 profitable branches and indicate how profitable they are."
   ]
  },
  {
   "cell_type": "code",
   "execution_count": null,
   "metadata": {},
   "outputs": [],
   "source": [
    "profit_df = branch_df[['branch_name', 'amount_in_gbp','year']]"
   ]
  },
  {
   "cell_type": "markdown",
   "metadata": {},
   "source": [
    "This file was reduced from 10.9 GB to 32 KB"
   ]
  },
  {
   "cell_type": "code",
   "execution_count": null,
   "metadata": {},
   "outputs": [],
   "source": [
    "profitable_branches_df = profit_df.groupby(['year', 'branch_name'])['amount_in_gbp'].sum().reset_index()"
   ]
  },
  {
   "cell_type": "code",
   "execution_count": null,
   "metadata": {},
   "outputs": [],
   "source": [
    "profitable_branches_df.to_csv('testing_output/profitable_branches_df.csv')"
   ]
  },
  {
   "cell_type": "markdown",
   "metadata": {},
   "source": [
    "Below is the process of making sure I output the right data to then use in the dash app"
   ]
  },
  {
   "cell_type": "code",
   "execution_count": null,
   "metadata": {},
   "outputs": [],
   "source": [
    "year_filtered_df = profitable_branches_df.loc[profitable_branches_df['year']== 2020]"
   ]
  },
  {
   "cell_type": "code",
   "execution_count": null,
   "metadata": {},
   "outputs": [],
   "source": [
    "year_filtered_df.sort_values(by=['year','amount_in_gbp'],ascending=False)"
   ]
  },
  {
   "cell_type": "code",
   "execution_count": null,
   "metadata": {},
   "outputs": [],
   "source": [
    "top_year_filtered_df = year_filtered_df.head(10)\n",
    "bottom_year_filtered_df = year_filtered_df.tail(10)\n",
    "top_year_filtered_df"
   ]
  },
  {
   "cell_type": "markdown",
   "metadata": {},
   "source": [
    "I needed to import the branch_expenses, take the columns I needed and create a total expenses column, the join to existing df"
   ]
  },
  {
   "cell_type": "code",
   "execution_count": null,
   "metadata": {},
   "outputs": [],
   "source": [
    "branch_expenses_df = pd.read_csv('branch_expenses.csv')"
   ]
  },
  {
   "cell_type": "code",
   "execution_count": null,
   "metadata": {},
   "outputs": [],
   "source": [
    "branch_expenses_df\n",
    "branch_expenses_df['total_expenses'] = branch_expenses_df.apply(lambda row: row.operational_cost + row.staff_bonuses + row.misc_expenses + row.waste_cost, axis=1)"
   ]
  },
  {
   "cell_type": "code",
   "execution_count": null,
   "metadata": {},
   "outputs": [],
   "source": [
    "total_branch_expenses =branch_expenses_df.groupby('branch_name')['total_expenses'].sum().reset_index()\n",
    "branch_total_df = top_year_filtered_df.merge(total_branch_expenses.set_index('branch_name'), on='branch_name') "
   ]
  },
  {
   "cell_type": "code",
   "execution_count": null,
   "metadata": {},
   "outputs": [],
   "source": [
    "branch_total_df['profitability'] = branch_total_df.apply(lambda row: row.amount_in_gbp - row.total_expenses, axis=1)\n",
    "branch_total_df['profitability'] = branch_total_df.amount_in_gbp - branch_total_df.total_expenses\n",
    "branch_total_df.sort_values(by='profitability', ascending=False)"
   ]
  },
  {
   "cell_type": "code",
   "execution_count": null,
   "metadata": {},
   "outputs": [],
   "source": [
    "branch_total_df.sort_values(by='profitability', ascending=False)\n",
    "top_profitability_stores = branch_total_df.head(10)\n",
    "bottom_profitability_stores = branch_total_df.tail(10)\n",
    "top_profitability_stores\n"
   ]
  },
  {
   "cell_type": "code",
   "execution_count": null,
   "metadata": {},
   "outputs": [],
   "source": [
    "top_profitability_stores.plot.bar(x=('branch_name'), y=['total_expenses', 'amount_in_gbp'], rot=0, subplots=True)\n",
    "plt.xlabel(None)\n",
    "plt.ylabel(None)\n",
    "plt.title('Top Profitable Stores 2021')\n",
    "plt.xticks(rotation=90)"
   ]
  },
  {
   "cell_type": "code",
   "execution_count": null,
   "metadata": {},
   "outputs": [],
   "source": [
    "bottom_profitability_stores.plot.bar(x=('branch_name'), y=['profitability'])\n",
    "plt.ylim(bottom= 1.00000e+09)\n",
    "plt.xlabel('Branch Name')\n",
    "plt.ylabel('Profitability')\n",
    "plt.title('Least Profitable Stores 2021')"
   ]
  },
  {
   "cell_type": "code",
   "execution_count": null,
   "metadata": {},
   "outputs": [],
   "source": []
  }
 ],
 "metadata": {
  "interpreter": {
   "hash": "e4baa1118497be939149502021bd6938b195297596de37c7dd3321e4ed94a8c7"
  },
  "kernelspec": {
   "display_name": "Python 3.10.0 64-bit ('.env': venv)",
   "language": "python",
   "name": "python3"
  },
  "language_info": {
   "codemirror_mode": {
    "name": "ipython",
    "version": 3
   },
   "file_extension": ".py",
   "mimetype": "text/x-python",
   "name": "python",
   "nbconvert_exporter": "python",
   "pygments_lexer": "ipython3",
   "version": "3.10.0"
  },
  "orig_nbformat": 4
 },
 "nbformat": 4,
 "nbformat_minor": 2
}
